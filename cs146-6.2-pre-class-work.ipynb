{
 "cells": [
  {
   "cell_type": "code",
   "execution_count": 16,
   "metadata": {},
   "outputs": [],
   "source": [
    "import pandas as pd \n",
    "import numpy as np\n",
    "import scipy.stats as sts \n"
   ]
  },
  {
   "cell_type": "code",
   "execution_count": 53,
   "metadata": {},
   "outputs": [
    {
     "data": {
      "text/html": [
       "<div>\n",
       "<style scoped>\n",
       "    .dataframe tbody tr th:only-of-type {\n",
       "        vertical-align: middle;\n",
       "    }\n",
       "\n",
       "    .dataframe tbody tr th {\n",
       "        vertical-align: top;\n",
       "    }\n",
       "\n",
       "    .dataframe thead th {\n",
       "        text-align: right;\n",
       "    }\n",
       "</style>\n",
       "<table border=\"1\" class=\"dataframe\">\n",
       "  <thead>\n",
       "    <tr style=\"text-align: right;\">\n",
       "      <th></th>\n",
       "      <th>father</th>\n",
       "      <th>son</th>\n",
       "      <th>count</th>\n",
       "    </tr>\n",
       "  </thead>\n",
       "  <tbody>\n",
       "    <tr>\n",
       "      <td>0</td>\n",
       "      <td>farm</td>\n",
       "      <td>farm</td>\n",
       "      <td>703</td>\n",
       "    </tr>\n",
       "    <tr>\n",
       "      <td>1</td>\n",
       "      <td>farm</td>\n",
       "      <td>unskilled</td>\n",
       "      <td>1478</td>\n",
       "    </tr>\n",
       "    <tr>\n",
       "      <td>2</td>\n",
       "      <td>farm</td>\n",
       "      <td>skilled</td>\n",
       "      <td>1430</td>\n",
       "    </tr>\n",
       "    <tr>\n",
       "      <td>3</td>\n",
       "      <td>farm</td>\n",
       "      <td>professional</td>\n",
       "      <td>1109</td>\n",
       "    </tr>\n",
       "    <tr>\n",
       "      <td>4</td>\n",
       "      <td>unskilled</td>\n",
       "      <td>farm</td>\n",
       "      <td>58</td>\n",
       "    </tr>\n",
       "  </tbody>\n",
       "</table>\n",
       "</div>"
      ],
      "text/plain": [
       "      father           son  count\n",
       "0       farm          farm    703\n",
       "1       farm     unskilled   1478\n",
       "2       farm       skilled   1430\n",
       "3       farm  professional   1109\n",
       "4  unskilled          farm     58"
      ]
     },
     "execution_count": 53,
     "metadata": {},
     "output_type": "execute_result"
    }
   ],
   "source": [
    "df = pd.read_csv('/Users/yuehanhuang/Documents/socialmobility.txt')\n",
    "df.head()"
   ]
  },
  {
   "cell_type": "code",
   "execution_count": 62,
   "metadata": {},
   "outputs": [
    {
     "name": "stdout",
     "output_type": "stream",
     "text": [
      "      father           son  count\n",
      "4  unskilled          farm     58\n",
      "5  unskilled     unskilled   1756\n",
      "6  unskilled       skilled   1630\n",
      "7  unskilled  professional   1568\n",
      "0.01849647171037398 0.678976451427351\n"
     ]
    }
   ],
   "source": [
    "\"\"\"\n",
    "    What is the 95% posterior probability interval, \n",
    "    for the case a son will become a skilled laborer given his father was an unskilled laborer? \n",
    "\"\"\"\n",
    "\n",
    "case1 = df[df['father']=='unskilled']\n",
    "total = case1['count'].sum()\n",
    "titles = case1['son'].unique()\n",
    "trial_size = 10000 \n",
    "prob1 = [i/total for i in list(case1['count'])]\n",
    "\n",
    "print(case1)\n",
    "\n",
    "# for the prior, we chose uniform distribution \n",
    "posterior = sts.dirichlet([val + 1 for val in prob1])\n",
    "\n",
    "samples = posterior.rvs(size=10000)\n",
    "\n",
    "unskilled_samples = samples[:, 2]\n",
    "sorted_unskilled_samples = np.sort(unskilled_samples)\n",
    "print(sorted_unskilled_samples[250], sorted_unskilled_samples[9750])"
   ]
  },
  {
   "cell_type": "code",
   "execution_count": 63,
   "metadata": {},
   "outputs": [
    {
     "name": "stdout",
     "output_type": "stream",
     "text": [
      "          father           son  count\n",
      "3           farm  professional   1109\n",
      "7      unskilled  professional   1568\n",
      "11       skilled  professional   2483\n",
      "15  professional  professional   3315\n",
      "0.010451696794726037 0.6415379056537783\n"
     ]
    }
   ],
   "source": [
    "\"\"\"\n",
    "    What is the 95% posterior probability interval, \n",
    "    for the case a father works on a farm given his son works as a professional? \n",
    "\"\"\"\n",
    "\n",
    "case2 = df[df['son']=='professional']\n",
    "total2 = case2['count'].sum()\n",
    "titles = case2['father'].unique()\n",
    "trial_size = 10000 \n",
    "prob2 = [i/total2 for i in list(case2['count'])]\n",
    "\n",
    "print(case2)\n",
    "\n",
    "\n",
    "# for the prior, we chose uniform distribution \n",
    "posterior = sts.dirichlet([val + 1 for val in prob2])\n",
    "\n",
    "samples = posterior.rvs(size=10000)\n",
    "\n",
    "farm_samples = samples[:, 0] #farm is col 1 \n",
    "sorted_farm_samples = np.sort(farm_samples)\n",
    "print(sorted_farm_samples[250], sorted_farm_samples[9750])"
   ]
  },
  {
   "cell_type": "code",
   "execution_count": null,
   "metadata": {},
   "outputs": [],
   "source": []
  }
 ],
 "metadata": {
  "kernelspec": {
   "display_name": "Python 3",
   "language": "python",
   "name": "python3"
  },
  "language_info": {
   "codemirror_mode": {
    "name": "ipython",
    "version": 3
   },
   "file_extension": ".py",
   "mimetype": "text/x-python",
   "name": "python",
   "nbconvert_exporter": "python",
   "pygments_lexer": "ipython3",
   "version": "3.7.4"
  }
 },
 "nbformat": 4,
 "nbformat_minor": 2
}
