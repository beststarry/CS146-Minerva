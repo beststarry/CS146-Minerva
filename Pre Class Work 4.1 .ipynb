{
 "cells": [
  {
   "cell_type": "markdown",
   "metadata": {},
   "source": [
    "Given the information below, find reasonable values for the prior parameters of the normal-inverse-gamma distribution — μ₀, ν₀, α₀, β₀. You will be asked to provide your values for the prior hyperparameters in class, and to explain how you came up with them.\n",
    "\n",
    "Information provided:\n",
    "\n",
    "- The data are normally distributed. The error margins given below represent 1 standard deviation from the mean of the parameter.\n",
    "\n",
    "- Constraint: the mean of the data is approximately 2.3 ± 0.5.\n",
    "\n",
    "- Constraint: the variance of the data is approximately 2.75 ± 1.\n",
    "\n",
    "- Find μ₀, ν₀, α₀, β₀ hyperparameters for the normal-inverse-gamma prior that match this information."
   ]
  },
  {
   "cell_type": "code",
   "execution_count": 1,
   "metadata": {},
   "outputs": [],
   "source": [
    "# import relevant packages \n",
    "import numpy as np\n",
    "import scipy.stats as sts\n",
    "import matplotlib.pyplot as plt\n",
    "import math\n",
    "from scipy.optimize import minimize\n",
    "from statistics import variance"
   ]
  },
  {
   "cell_type": "code",
   "execution_count": 5,
   "metadata": {},
   "outputs": [],
   "source": [
    "def norminvgamma_pdf(x, sigma2, mu, nu, alpha, beta):\n",
    "    \"\"\"\n",
    "    The pdf of the normal-inverse-gamma distribution at mean=x & variance = sigma2 \n",
    "    \"\"\"\n",
    "    return (sts.norm.pdf(x, loc=mu, scale=np.sqrt(sigma2 / nu)) *\n",
    "            sts.invgamma.pdf(sigma2, a=alpha, scale=beta))\n",
    "\n",
    "\n",
    "def norminvgamma_rvs(mu, nu, alpha, beta, size=1):\n",
    "    \"\"\"\n",
    "    This function return a matrix with (size,2) samples generated \n",
    "    from the normal-inverse-gamma distribution \n",
    "    \"\"\"\n",
    "    # Sample sigma^2 from the inverse-gamma distribution\n",
    "    sigma2 = sts.invgamma.rvs(a=alpha, scale=beta, size=size)\n",
    "    # Sample x from the normal distribution\n",
    "    x = sts.norm.rvs(loc=mu, scale=np.sqrt(sigma2 / nu), size=size)\n",
    "    return np.vstack((x, sigma2)).transpose()"
   ]
  },
  {
   "cell_type": "code",
   "execution_count": 53,
   "metadata": {},
   "outputs": [],
   "source": [
    "def objective_function(param = init_param):\n",
    "    mu, nu, alpha, beta = param[0], param[1], param[2], param[3] \n",
    "    x = mu # Mean\n",
    "    sigma_2 = beta/(alpha - 1) # Variance \n",
    "    x_var = beta/((alpha - 1) * nu) # Variance of data,  for var_x taken from Wikipedia\n",
    "    sigma_2_var = (beta**2) / (((alpha - 1)**2)*(alpha - 2)) # Equation for var_sigma2 taken from Wikipedia\n",
    "    \n",
    "    func = (x - 2.3)**2 + (sigma_2 - 2.75)**2 + (x_var - 0.5)**2 + (sigma_2_var - 1)**2\n",
    "\n",
    "    return func \n",
    "\n",
    "\n",
    "# Let the hyperparameters be the following \n",
    "mu_0 = 2.3        # According the to prior, mean is centered around 2.3.\n",
    "nu_0 = 2.1  # ν₀ accounts for the uncertainty in our prior mean: the smaller, the more uncertain \n",
    "alpha_0 = 1.5  # α₀ and β₀ account for the marginal prior over the variance.\n",
    "beta_0 = 2.5\n",
    "\n",
    "init_param = [mu_0,nu_0,alpha_0,beta_0]\n",
    "output = minimize(objective_function, init_param)\n",
    "updt_param = output.x"
   ]
  },
  {
   "cell_type": "code",
   "execution_count": 54,
   "metadata": {
    "scrolled": true
   },
   "outputs": [
    {
     "name": "stdout",
     "output_type": "stream",
     "text": [
      "paramters before optimization: [2.3, 2.1, 1.5, 2.5]\n",
      "paramters after  optimization: [ 2.30000059  5.50000134  9.56249617 23.54686253]\n"
     ]
    }
   ],
   "source": [
    "print(f\"paramters before optimization: {init_param}\")\n",
    "print(f\"paramters after  optimization: {updt_param}\")"
   ]
  },
  {
   "cell_type": "markdown",
   "metadata": {},
   "source": [
    "The initial hyperparameters has been updated to optimal one given the constraints on mean and variance. "
   ]
  },
  {
   "cell_type": "code",
   "execution_count": null,
   "metadata": {},
   "outputs": [],
   "source": []
  }
 ],
 "metadata": {
  "kernelspec": {
   "display_name": "Python 3",
   "language": "python",
   "name": "python3"
  },
  "language_info": {
   "codemirror_mode": {
    "name": "ipython",
    "version": 3
   },
   "file_extension": ".py",
   "mimetype": "text/x-python",
   "name": "python",
   "nbconvert_exporter": "python",
   "pygments_lexer": "ipython3",
   "version": "3.7.4"
  }
 },
 "nbformat": 4,
 "nbformat_minor": 2
}
